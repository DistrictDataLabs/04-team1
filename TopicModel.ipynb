{
 "cells": [
  {
   "cell_type": "code",
   "execution_count": 1,
   "metadata": {
    "collapsed": false
   },
   "outputs": [
    {
     "ename": "ImportError",
     "evalue": "No module named 'gensim'",
     "output_type": "error",
     "traceback": [
      "\u001b[0;31m---------------------------------------------------------------------------\u001b[0m",
      "\u001b[0;31mImportError\u001b[0m                               Traceback (most recent call last)",
      "\u001b[0;32m<ipython-input-1-a88736c885f1>\u001b[0m in \u001b[0;36m<module>\u001b[0;34m()\u001b[0m\n\u001b[0;32m----> 1\u001b[0;31m \u001b[0;32mimport\u001b[0m \u001b[0mgensim\u001b[0m\u001b[0;34m,\u001b[0m \u001b[0mos\u001b[0m\u001b[0;34m,\u001b[0m \u001b[0mre\u001b[0m\u001b[0;34m\u001b[0m\u001b[0m\n\u001b[0m\u001b[1;32m      2\u001b[0m \u001b[0;32mfrom\u001b[0m \u001b[0melasticsearch\u001b[0m \u001b[0;32mimport\u001b[0m \u001b[0mElasticsearch\u001b[0m\u001b[0;34m\u001b[0m\u001b[0m\n",
      "\u001b[0;31mImportError\u001b[0m: No module named 'gensim'"
     ]
    }
   ],
   "source": [
    "import gensim, os, re\n",
    "from elasticsearch import Elasticsearch"
   ]
  },
  {
   "cell_type": "code",
   "execution_count": 2,
   "metadata": {
    "collapsed": false
   },
   "outputs": [
    {
     "ename": "SyntaxError",
     "evalue": "invalid syntax (<ipython-input-2-c4f149431865>, line 4)",
     "output_type": "error",
     "traceback": [
      "\u001b[0;36m  File \u001b[0;32m\"<ipython-input-2-c4f149431865>\"\u001b[0;36m, line \u001b[0;32m4\u001b[0m\n\u001b[0;31m    stop_words = set{[\u001b[0m\n\u001b[0m                    ^\u001b[0m\n\u001b[0;31mSyntaxError\u001b[0m\u001b[0;31m:\u001b[0m invalid syntax\n"
     ]
    }
   ],
   "source": [
    "txt_dir=\"./txt/\"\n",
    "\n",
    "# create stopword lists - *customize/manually create*\n",
    "stop_words = set{[\n",
    "        ...\n",
    "    ]}\n",
    "# create the list by doing the following and just add.\n",
    "\n",
    "def clean_text(txt):\n",
    "    # get a string of raw text and tokenize them\n",
    "    # make sure we dont have stop words\n",
    "    # make sure length > 1\n",
    "    \n",
    "    clean_words = []\n",
    "    tokens = txt.split()\n",
    "    for w in tokens:\n",
    "        if w not in stop_words and re.search( r\"^[A-Za-z].*]$\", w): # make sure starts and ends with letter and is not stop word, order matters (regexp are expensive)\n",
    "            w = re.sub(r\"[^A-Za-z-]\", \"\", w) # make sure the word contains letters or hyphen\n",
    "            if len(w) > 1:\n",
    "                clean_words.append(w.lower())\n",
    "    return clean_words\n",
    "\n",
    "# elastic has momentum right now\n",
    "    # schema on read\n",
    "es = Elasticsearch()\n",
    "index = \"arxiv\"\n",
    "\n",
    "if es.indices.exists(index):\n",
    "    es.indices.delete(index)\n",
    "\n",
    "es.indices.create(index)\n",
    "\n",
    "for file_name in os.listdir(txts_dir):\n",
    "    with open(txtss + file_name, \"r\") as f:\n",
    "        txt = f.read()\n",
    "        clean_text = \" \".join(clean_text(text))\n",
    "        name = file_name.replace(\".txt\", \"\")\n",
    "        body = {\"name\" : name, \"text\"}\n",
    "        es.index(index = index, doc_type = \"file\", body = body)"
   ]
  },
  {
   "cell_type": "code",
   "execution_count": 3,
   "metadata": {
    "collapsed": true
   },
   "outputs": [],
   "source": [
    "# find the number of topics/clusters for you\n",
    "# nonparametric, number of clusters grow as you give it more data"
   ]
  },
  {
   "cell_type": "code",
   "execution_count": null,
   "metadata": {
    "collapsed": true
   },
   "outputs": [],
   "source": [
    "docs = []\n",
    "\n",
    "for f in os.listdir(txts_dir):\n",
    "    with open(txts_dir + f, \"r\") as f:\n",
    "        docs.append(f.read())\n",
    "        \n",
    "texts = [clean_text(d) for d in docs]\n",
    "\n",
    "# create dictionary\n",
    "id2word = gensim.corpora.Dictionary(texts)\n",
    "id2word.filter_extremes(no_below=10, keep_n = 100000) # if word appears fewer than 10 times, disregard; keep 100k words in our vocab\n",
    "id2word.compactify()\n",
    "\n",
    "# we want to make sure we can save, so we can get our trained model and apply it\n",
    "id2word.save(\"hdpDictionary\")\n",
    "\n",
    "# corpus in gensim\n",
    "id2freq=[id2word.doc2bow(t) for t in texts] # turn to bag of words, does not take context into account\n",
    "\n",
    "# now we can train our model\n",
    "# faster than LDA, hdp infers for you k; \"no advantage\"\n",
    "# implementation from one papers\n",
    "hdp = gensim.model.hdpmodel(corpus=id2freq, id2word=id2word)\n",
    "hdp.save(\"hdpModel\")\n",
    "\n",
    "# passed corpus array of bag of words for each text\n",
    "# passed dictionary id to word so ethat gensim can represent word as integer instead of string\n",
    "\n",
    "topics_file = \"hdp_topics.txt\"\n",
    "topics = hdp.show_topics(topics = -1, topn = 15) # grab all topics (-1) and top 15 most relevant words from each topic\n",
    "\n",
    "with open(topics_file, \"w\") as f:\n",
    "    for topic in topics:\n",
    "        f.write(\"{}\\n\".format(topic))\n",
    "\n",
    "\n",
    "print \"done processing\"\n",
    "\n",
    "# more or less topics, tweak alpha"
   ]
  }
 ],
 "metadata": {
  "kernelspec": {
   "display_name": "Python 3",
   "language": "python",
   "name": "python3"
  },
  "language_info": {
   "codemirror_mode": {
    "name": "ipython",
    "version": 3
   },
   "file_extension": ".py",
   "mimetype": "text/x-python",
   "name": "python",
   "nbconvert_exporter": "python",
   "pygments_lexer": "ipython3",
   "version": "3.5.1"
  }
 },
 "nbformat": 4,
 "nbformat_minor": 0
}
